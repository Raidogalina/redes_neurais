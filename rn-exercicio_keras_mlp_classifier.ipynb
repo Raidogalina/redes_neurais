{
 "cells": [
  {
   "cell_type": "markdown",
   "metadata": {},
   "source": [
    "# Keras MLP Classifier"
   ]
  },
  {
   "cell_type": "code",
   "execution_count": 16,
   "metadata": {},
   "outputs": [
    {
     "data": {
      "text/plain": [
       "((8982,), (8982,), (2246,), (2246,))"
      ]
     },
     "execution_count": 16,
     "metadata": {},
     "output_type": "execute_result"
    }
   ],
   "source": [
    "from tensorflow.keras.datasets import reuters\n",
    "(train_data, train_labels), (test_data, test_labels) = reuters.load_data(num_words=10000)\n",
    "train_data.shape, train_labels.shape, test_data.shape, test_labels.shape"
   ]
  },
  {
   "cell_type": "code",
   "execution_count": 17,
   "metadata": {},
   "outputs": [
    {
     "data": {
      "text/plain": [
       "(array([ 0,  1,  2,  3,  4,  5,  6,  7,  8,  9, 10, 11, 12, 13, 14, 15, 16,\n",
       "        17, 18, 19, 20, 21, 22, 23, 24, 25, 26, 27, 28, 29, 30, 31, 32, 33,\n",
       "        34, 35, 36, 37, 38, 39, 40, 41, 42, 43, 44, 45], dtype=int64),\n",
       " 46)"
      ]
     },
     "execution_count": 17,
     "metadata": {},
     "output_type": "execute_result"
    }
   ],
   "source": [
    "import numpy as np\n",
    "labels = np.unique(train_labels)\n",
    "labels, len(labels)"
   ]
  },
  {
   "cell_type": "code",
   "execution_count": 18,
   "metadata": {},
   "outputs": [],
   "source": [
    "def decode_words(word_index, sentence):\n",
    "    reverse_word_index = dict([(value, key) for (key, value) in word_index.items()])\n",
    "    return \" \".join([reverse_word_index.get(i-3, \"?\") for i in sentence])"
   ]
  },
  {
   "cell_type": "code",
   "execution_count": 19,
   "metadata": {},
   "outputs": [
    {
     "data": {
      "text/plain": [
       "((8982, 10000), (2246, 10000))"
      ]
     },
     "execution_count": 19,
     "metadata": {},
     "output_type": "execute_result"
    }
   ],
   "source": [
    "import numpy as np\n",
    "def vectorize_sequences(sequences, dimension=10000):\n",
    "    results = np.zeros((len(sequences), dimension))\n",
    "    for i, sequence in enumerate(sequences):\n",
    "        for j in sequence:\n",
    "            results[i, j] = 1\n",
    "    return results\n",
    "x_train = vectorize_sequences(train_data)\n",
    "x_test = vectorize_sequences(test_data)\n",
    "x_train.shape, x_test.shape"
   ]
  },
  {
   "cell_type": "code",
   "execution_count": 20,
   "metadata": {},
   "outputs": [
    {
     "data": {
      "text/plain": [
       "((8982, 46), (2246, 46))"
      ]
     },
     "execution_count": 20,
     "metadata": {},
     "output_type": "execute_result"
    }
   ],
   "source": [
    "def to_one_hot(labels, dimension=46):\n",
    "    results = np.zeros((len(labels), dimension))\n",
    "    for i, label in enumerate(labels):\n",
    "        results[i, label] = 1\n",
    "    return results\n",
    "y_train = to_one_hot(train_labels)\n",
    "y_test = to_one_hot(test_labels)\n",
    "y_train.shape, y_test.shape"
   ]
  },
  {
   "cell_type": "code",
   "execution_count": 21,
   "metadata": {},
   "outputs": [
    {
     "data": {
      "text/plain": [
       "((8982, 46), (2246, 46))"
      ]
     },
     "execution_count": 21,
     "metadata": {},
     "output_type": "execute_result"
    }
   ],
   "source": [
    "from tensorflow.keras.utils import to_categorical\n",
    "y_train = to_categorical(train_labels)\n",
    "y_test = to_categorical(test_labels)\n",
    "y_train.shape, y_test.shape"
   ]
  },
  {
   "cell_type": "code",
   "execution_count": 22,
   "metadata": {},
   "outputs": [],
   "source": [
    "from tensorflow import keras\n",
    "from tensorflow.keras import layers\n",
    "\n",
    "model = keras.Sequential([\n",
    "    layers.Dense(64, activation=\"relu\"),\n",
    "    layers.Dense(64, activation=\"relu\"),\n",
    "    layers.Dense(46, activation=\"softmax\")\n",
    "])\n",
    "model.compile(optimizer=\"rmsprop\", \n",
    "              loss=\"categorical_crossentropy\",\n",
    "              metrics=[\"accuracy\"])"
   ]
  },
  {
   "cell_type": "code",
   "execution_count": 23,
   "metadata": {},
   "outputs": [
    {
     "data": {
      "text/plain": [
       "((1000, 10000), (7982, 10000), (1000, 46), (7982, 46))"
      ]
     },
     "execution_count": 23,
     "metadata": {},
     "output_type": "execute_result"
    }
   ],
   "source": [
    "n_val = 1000\n",
    "x_val = x_train[:n_val]\n",
    "partial_x_train = x_train[n_val:]\n",
    "y_val = y_train[:n_val]\n",
    "partial_y_train = y_train[n_val:]\n",
    "x_val.shape, partial_x_train.shape, y_val.shape, partial_y_train.shape"
   ]
  },
  {
   "cell_type": "code",
   "execution_count": 24,
   "metadata": {},
   "outputs": [
    {
     "name": "stdout",
     "output_type": "stream",
     "text": [
      "Epoch 1/20\n",
      "16/16 [==============================] - 1s 40ms/step - loss: 2.6503 - accuracy: 0.5289 - val_loss: 1.7330 - val_accuracy: 0.6340\n",
      "Epoch 2/20\n",
      "16/16 [==============================] - 0s 28ms/step - loss: 1.4276 - accuracy: 0.6967 - val_loss: 1.2955 - val_accuracy: 0.7100\n",
      "Epoch 3/20\n",
      "16/16 [==============================] - 0s 30ms/step - loss: 1.0556 - accuracy: 0.7709 - val_loss: 1.1189 - val_accuracy: 0.7620\n",
      "Epoch 4/20\n",
      "16/16 [==============================] - 0s 29ms/step - loss: 0.8258 - accuracy: 0.8269 - val_loss: 1.0302 - val_accuracy: 0.7740\n",
      "Epoch 5/20\n",
      "16/16 [==============================] - 0s 28ms/step - loss: 0.6524 - accuracy: 0.8667 - val_loss: 0.9846 - val_accuracy: 0.7880\n",
      "Epoch 6/20\n",
      "16/16 [==============================] - 0s 28ms/step - loss: 0.5225 - accuracy: 0.8936 - val_loss: 0.9542 - val_accuracy: 0.7890\n",
      "Epoch 7/20\n",
      "16/16 [==============================] - 0s 28ms/step - loss: 0.4219 - accuracy: 0.9131 - val_loss: 0.9065 - val_accuracy: 0.8040\n",
      "Epoch 8/20\n",
      "16/16 [==============================] - 0s 29ms/step - loss: 0.3445 - accuracy: 0.9270 - val_loss: 0.8846 - val_accuracy: 0.8130\n",
      "Epoch 9/20\n",
      "16/16 [==============================] - 0s 29ms/step - loss: 0.2850 - accuracy: 0.9384 - val_loss: 0.9563 - val_accuracy: 0.7900\n",
      "Epoch 10/20\n",
      "16/16 [==============================] - 0s 29ms/step - loss: 0.2402 - accuracy: 0.9455 - val_loss: 0.8958 - val_accuracy: 0.8140\n",
      "Epoch 11/20\n",
      "16/16 [==============================] - 0s 28ms/step - loss: 0.2041 - accuracy: 0.9489 - val_loss: 0.9414 - val_accuracy: 0.8090\n",
      "Epoch 12/20\n",
      "16/16 [==============================] - 0s 29ms/step - loss: 0.1847 - accuracy: 0.9503 - val_loss: 0.9622 - val_accuracy: 0.8080\n",
      "Epoch 13/20\n",
      "16/16 [==============================] - 0s 29ms/step - loss: 0.1665 - accuracy: 0.9526 - val_loss: 0.9459 - val_accuracy: 0.8210\n",
      "Epoch 14/20\n",
      "16/16 [==============================] - 0s 28ms/step - loss: 0.1496 - accuracy: 0.9545 - val_loss: 0.9560 - val_accuracy: 0.8120\n",
      "Epoch 15/20\n",
      "16/16 [==============================] - 0s 27ms/step - loss: 0.1388 - accuracy: 0.9572 - val_loss: 0.9798 - val_accuracy: 0.8100\n",
      "Epoch 16/20\n",
      "16/16 [==============================] - 0s 30ms/step - loss: 0.1370 - accuracy: 0.9557 - val_loss: 1.0003 - val_accuracy: 0.8030\n",
      "Epoch 17/20\n",
      "16/16 [==============================] - 0s 29ms/step - loss: 0.1206 - accuracy: 0.9588 - val_loss: 1.0622 - val_accuracy: 0.8020\n",
      "Epoch 18/20\n",
      "16/16 [==============================] - 0s 29ms/step - loss: 0.1162 - accuracy: 0.9603 - val_loss: 1.0640 - val_accuracy: 0.8040\n",
      "Epoch 19/20\n",
      "16/16 [==============================] - 0s 29ms/step - loss: 0.1170 - accuracy: 0.9577 - val_loss: 1.1108 - val_accuracy: 0.7890\n",
      "Epoch 20/20\n",
      "16/16 [==============================] - 0s 27ms/step - loss: 0.1114 - accuracy: 0.9582 - val_loss: 1.0892 - val_accuracy: 0.8020\n"
     ]
    }
   ],
   "source": [
    "history = model.fit(partial_x_train,\n",
    "                    partial_y_train,\n",
    "                   epochs=20,\n",
    "                   batch_size=512,\n",
    "                   validation_data=(x_val,y_val))"
   ]
  },
  {
   "cell_type": "code",
   "execution_count": 25,
   "metadata": {},
   "outputs": [
    {
     "data": {
      "image/png": "[encoded data removed]",
      "text/plain": [
       "<Figure size 432x288 with 1 Axes>"
      ]
     },
     "metadata": {
      "needs_background": "light"
     },
     "output_type": "display_data"
    }
   ],
   "source": [
    "import matplotlib.pyplot as plt\n",
    "history_dict = history.history\n",
    "loss_values = history_dict[\"loss\"]\n",
    "val_loss_values = history_dict[\"val_loss\"]\n",
    "epochs = range(1,len(loss_values)+1)\n",
    "plt.plot(epochs, loss_values, \"bo\", label=\"Training Loss\")\n",
    "plt.plot(epochs, val_loss_values, \"b\", label=\"Validation Loss\")\n",
    "plt.title(\"Perda no treinamento e validação\")\n",
    "plt.xlabel(\"Épocas\")\n",
    "plt.ylabel(\"Perda\")\n",
    "plt.legend()\n",
    "plt.show()"
   ]
  },
  {
   "cell_type": "code",
   "execution_count": 26,
   "metadata": {},
   "outputs": [
    {
     "data": {
      "image/png": "[encoded data removed]",
      "text/plain": [
       "<Figure size 432x288 with 1 Axes>"
      ]
     },
     "metadata": {
      "needs_background": "light"
     },
     "output_type": "display_data"
    }
   ],
   "source": [
    "import matplotlib.pyplot as plt\n",
    "history_dict = history.history\n",
    "loss_values = history_dict[\"accuracy\"]\n",
    "val_loss_values = history_dict[\"val_accuracy\"]\n",
    "epochs = range(1,len(loss_values)+1)\n",
    "plt.plot(epochs, loss_values, \"bo\", label=\"Training Acc\")\n",
    "plt.plot(epochs, val_loss_values, \"b\", label=\"Validation Acc\")\n",
    "plt.title(\"Acurácia de treinamento e validação\")\n",
    "plt.xlabel(\"Épocas\")\n",
    "plt.ylabel(\"Acurácia\")\n",
    "plt.legend()\n",
    "plt.show()"
   ]
  },
  {
   "cell_type": "code",
   "execution_count": 27,
   "metadata": {},
   "outputs": [
    {
     "name": "stdout",
     "output_type": "stream",
     "text": [
      "Epoch 1/6\n",
      "63/63 [==============================] - 2s 19ms/step - loss: 2.5110 - accuracy: 0.4548 - val_loss: 1.6518 - val_accuracy: 0.6260\n",
      "Epoch 2/6\n",
      "63/63 [==============================] - 1s 17ms/step - loss: 1.3798 - accuracy: 0.6814 - val_loss: 1.3079 - val_accuracy: 0.7000\n",
      "Epoch 3/6\n",
      "63/63 [==============================] - 1s 17ms/step - loss: 1.0641 - accuracy: 0.7523 - val_loss: 1.1976 - val_accuracy: 0.7340\n",
      "Epoch 4/6\n",
      "63/63 [==============================] - 1s 17ms/step - loss: 0.8686 - accuracy: 0.7886 - val_loss: 1.1292 - val_accuracy: 0.7500\n",
      "Epoch 5/6\n",
      "63/63 [==============================] - 1s 16ms/step - loss: 0.7195 - accuracy: 0.8188 - val_loss: 1.0973 - val_accuracy: 0.7540\n",
      "Epoch 6/6\n",
      "63/63 [==============================] - 1s 16ms/step - loss: 0.5992 - accuracy: 0.8534 - val_loss: 1.0962 - val_accuracy: 0.7680\n",
      "71/71 [==============================] - 0s 3ms/step - loss: 1.1755 - accuracy: 0.7409\n"
     ]
    },
    {
     "data": {
      "text/plain": [
       "[1.1755121946334839, 0.7408726811408997]"
      ]
     },
     "execution_count": 27,
     "metadata": {},
     "output_type": "execute_result"
    }
   ],
   "source": [
    "model = keras.Sequential([\n",
    "    layers.Dense(64, activation=\"relu\"),\n",
    "    layers.Dense(8, activation=\"relu\"),\n",
    "    layers.Dense(46, activation=\"softmax\")\n",
    "])\n",
    "model.compile(optimizer=\"rmsprop\", \n",
    "              loss=\"categorical_crossentropy\",\n",
    "              metrics=[\"accuracy\"])\n",
    "history = model.fit(partial_x_train,\n",
    "                    partial_y_train,\n",
    "                   epochs=6,\n",
    "                   batch_size=128,\n",
    "                   validation_data=(x_val,y_val))\n",
    "results = model.evaluate(x_test, y_test)\n",
    "results"
   ]
  },
  {
   "cell_type": "code",
   "execution_count": null,
   "metadata": {},
   "outputs": [],
   "source": []
  }
 ],
 "metadata": {
  "interpreter": {
   "hash": "2c838bfbb99aa0e9e6f97549a4e87b3e2876983f103bc6c49d0caa1b2536c3e7"
  },
  "kernelspec": {
   "display_name": "Python 3.8.8 ('base')",
   "language": "python",
   "name": "python3"
  },
  "language_info": {
   "codemirror_mode": {
    "name": "ipython",
    "version": 3
   },
   "file_extension": ".py",
   "mimetype": "text/x-python",
   "name": "python",
   "nbconvert_exporter": "python",
   "pygments_lexer": "ipython3",
   "version": "3.8.8"
  },
  "orig_nbformat": 4
 },
 "nbformat": 4,
 "nbformat_minor": 2
}
