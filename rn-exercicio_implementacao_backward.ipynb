{
 "cells": [
  {
   "cell_type": "markdown",
   "metadata": {},
   "source": [
    "# Implementação da fase backward"
   ]
  },
  {
   "cell_type": "code",
   "execution_count": 1,
   "metadata": {},
   "outputs": [],
   "source": [
    "import numpy as np\n",
    "import matplotlib.pyplot as plt\n",
    "from sklearn.datasets import make_blobs"
   ]
  },
  {
   "cell_type": "code",
   "execution_count": 2,
   "metadata": {},
   "outputs": [],
   "source": [
    "def criaDatasetXOR(n=1000):\n",
    "    X,y = make_blobs(n_samples=n,centers=[[0,0],[1,0],[1,1],[0,1]],cluster_std=0.1)\n",
    "    y = np.array(y%2,dtype=int)\n",
    "    return X,y\n",
    "\n",
    "def plotDataSet(X,y):\n",
    "    plt.xlabel('X1')\n",
    "    plt.ylabel('X2')\n",
    "    \n",
    "    for k in set(y):\n",
    "        #print(\"k=\",k)\n",
    "        plt.plot(X[:,0][y==k],\n",
    "                 X[:,1][y==k],\n",
    "                 \"o\",alpha=0.3)\n",
    "\n",
    "def plotDatasetRegressao(X, y):\n",
    "    plt.plot(X[:,0], y, \"o\", alpha=0.3)\n",
    "\n",
    "def plotHiperplano(X,y,vetor, intercept=0):\n",
    "    x0min = min(X[:,0])\n",
    "    x0max = max(X[:,0])\n",
    "    \n",
    "    xs = np.linspace(x0min, x0max, num=2)\n",
    "    ys = (-vetor[0]/vetor[1])*xs-intercept/vetor[1]\n",
    "    plt.plot(xs,ys)\n",
    "\n",
    "def PlotCusto(custos):\n",
    "    if (len(custos) == 0):\n",
    "        print('ERRO: Modelo ainda não treinado para avaliar o custo!')\n",
    "        return\n",
    "    \n",
    "    x = [i for i in range(1,len(custos) + 1)]\n",
    "\n",
    "    plt.xlabel('Nº Iterações')\n",
    "    plt.ylabel('Custo')\n",
    "    plt.plot(x, custos, \"-\")\n",
    "    plt.show()"
   ]
  },
  {
   "cell_type": "code",
   "execution_count": 3,
   "metadata": {},
   "outputs": [],
   "source": [
    "def define_axes(X,margem=0.1):\n",
    "\n",
    "    min1 = X[:,0].min()\n",
    "    max1 = X[:,0].max() \n",
    "\n",
    "    min2 = X[:,1].min()\n",
    "    max2 = X[:,1].max() \n",
    "\n",
    "    return [min1-margem, max1+margem, min2-margem, max2+margem] \n",
    "\n",
    "def plotPredictions(clf, X, margem=0.1):\n",
    "    axes = define_axes(X, margem=margem)\n",
    "    x0s = np.linspace(axes[0], axes[1], 100)\n",
    "    x1s = np.linspace(axes[2], axes[3], 100)\n",
    "    x0,x1 = np.meshgrid(x0s, x1s)\n",
    "    X_ = np.c_[x0.ravel(), x1.ravel()] \n",
    "    ypred  = clf.predict(X_).reshape(x0.shape)\n",
    "    plt.contourf(x0,x1,ypred,cmap=plt.cm.brg, alpha=0.2)"
   ]
  },
  {
   "cell_type": "markdown",
   "metadata": {},
   "source": [
    "Criar uma base para o problema XOR, com apenas 4 exemplos e sem separação entre treino e teste."
   ]
  },
  {
   "cell_type": "code",
   "execution_count": 4,
   "metadata": {},
   "outputs": [],
   "source": [
    "X,y = criaDatasetXOR(n=4)"
   ]
  },
  {
   "cell_type": "code",
   "execution_count": 5,
   "metadata": {},
   "outputs": [
    {
     "data": {
      "image/png": "[encoded data removed]",
      "text/plain": [
       "<Figure size 432x288 with 1 Axes>"
      ]
     },
     "metadata": {
      "needs_background": "light"
     },
     "output_type": "display_data"
    }
   ],
   "source": [
    "plotDataSet(X,y)"
   ]
  },
  {
   "cell_type": "code",
   "execution_count": 6,
   "metadata": {},
   "outputs": [],
   "source": [
    "from scipy.special import expit\n",
    "def tanh(a):\n",
    "    return expit(a)*2-1"
   ]
  },
  {
   "cell_type": "code",
   "execution_count": 7,
   "metadata": {},
   "outputs": [],
   "source": [
    "def includeBias(X):\n",
    "    bias = np.ones((X.shape[0], 1))\n",
    "    Xb = np.concatenate((bias, X), axis=1)\n",
    "    return Xb"
   ]
  },
  {
   "cell_type": "code",
   "execution_count": 12,
   "metadata": {},
   "outputs": [],
   "source": [
    "class BackPropagation():\n",
    "    def __init__(self):\n",
    "        self.n_hidden = 2\n",
    "        self.activation = tanh\n",
    "        self.learning_rate = 0.01\n",
    "        self.max_iter = 10000\n",
    "    \n",
    "    def forward(self):\n",
    "        self.pH = self.Xb @ self.wih\n",
    "        self.H = self.activation(self.pH)\n",
    "        self.Hb = includeBias(self.H)\n",
    "        self.py = self.Hb @ self.who  \n",
    "\n",
    "    def backward(self,y):\n",
    "        ho_delta = y - self.py\n",
    "        ho_grad = self.Hb.T @ ho_delta\n",
    "        #PULO DO GATO\n",
    "        tanh_grad = (1 - np.square(self.H))\n",
    "        ih_delta = (ho_delta @ self.who[1:,:].T) * tanh_grad\n",
    "        ih_grad = self.Xb.T @ ih_delta\n",
    "        self.who += ho_grad*self.learning_rate\n",
    "        self.wih += ih_grad*self.learning_rate\n",
    "\n",
    "    def fit(self,X,y):\n",
    "        self.Xb = includeBias(X)\n",
    "        self.wih = np.random.uniform(-1,1,size=(self.Xb.shape[1],self.n_hidden))\n",
    "        self.who = np.random.uniform(-1,1,size=(self.n_hidden+1,y.shape[1])) \n",
    "        for _ in range (self.max_iter):\n",
    "            self.forward()\n",
    "            self.backward(y)\n",
    "\n",
    "    def predict(self,X):\n",
    "        Xb = includeBias(X)\n",
    "        H = self.activation(Xb@self.wih)\n",
    "        Hb = includeBias(H)\n",
    "        return Hb@self.who"
   ]
  },
  {
   "cell_type": "code",
   "execution_count": 13,
   "metadata": {},
   "outputs": [],
   "source": [
    "from sklearn.base import BaseEstimator, ClassifierMixin\n",
    "from sklearn.preprocessing import label_binarize\n",
    "\n",
    "class MLP(BaseEstimator, ClassifierMixin):\n",
    "    def __init__(self, training_algorithm=BackPropagation()):\n",
    "        self.training_algorithm = training_algorithm \n",
    "\n",
    "    def encode_labels(self,y):\n",
    "        self.labels = list(set(y))\n",
    "        return label_binarize(y,classes=self.labels)*2-1\n",
    "\n",
    "    def fit(self,X,y):\n",
    "        yhot = self.encode_labels(y)\n",
    "        self.training_algorithm.fit(X,yhot)\n",
    "\n",
    "    def predict(self,X,y=None):\n",
    "        a = self.training_algorithm.predict(X)\n",
    "        if len(self.labels) <= 2:\n",
    "            idx = np.array(a>0,dtype=int).reshape(-1,)\n",
    "        else:\n",
    "            idx = np.argmax(a,axis=1)\n",
    "        ypred = np.array([self.labels[i] for i in idx])\n",
    "        return ypred"
   ]
  },
  {
   "cell_type": "code",
   "execution_count": 14,
   "metadata": {},
   "outputs": [],
   "source": [
    "def accuracy(yactual, ypred):\n",
    "    return sum(yactual == ypred)/len(yactual)"
   ]
  },
  {
   "cell_type": "code",
   "execution_count": 15,
   "metadata": {},
   "outputs": [
    {
     "name": "stdout",
     "output_type": "stream",
     "text": [
      "1.0\n"
     ]
    },
    {
     "data": {
      "image/png": "[encoded data removed]",
      "text/plain": [
       "<Figure size 432x288 with 1 Axes>"
      ]
     },
     "metadata": {
      "needs_background": "light"
     },
     "output_type": "display_data"
    }
   ],
   "source": [
    "mlp = MLP()\n",
    "mlp.fit(X, y)\n",
    "print(accuracy(y, mlp.predict(X)))\n",
    "plotDataSet(X, y)\n",
    "plotPredictions(mlp, X)"
   ]
  }
 ],
 "metadata": {
  "interpreter": {
   "hash": "356ffd731ff44f0acee5dfd4a566859d30dfd3303ebb52c970eead785172f6f6"
  },
  "kernelspec": {
   "display_name": "Python 3.8.8 ('base')",
   "language": "python",
   "name": "python3"
  },
  "language_info": {
   "codemirror_mode": {
    "name": "ipython",
    "version": 3
   },
   "file_extension": ".py",
   "mimetype": "text/x-python",
   "name": "python",
   "nbconvert_exporter": "python",
   "pygments_lexer": "ipython3",
   "version": "3.8.10"
  },
  "orig_nbformat": 4
 },
 "nbformat": 4,
 "nbformat_minor": 2
}
