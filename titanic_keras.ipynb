{
  "nbformat": 4,
  "nbformat_minor": 0,
  "metadata": {
    "colab": {
      "name": "titanic-keras.ipynb",
      "provenance": []
    },
    "kernelspec": {
      "name": "python3",
      "display_name": "Python 3"
    },
    "language_info": {
      "name": "python"
    }
  },
  "cells": [
    {
      "cell_type": "code",
      "execution_count": 1,
      "metadata": {
        "id": "AIn3-5M1ap_l"
      },
      "outputs": [],
      "source": [
        "import numpy as np\n",
        "import pandas as pd\n",
        "from pandas.plotting import scatter_matrix\n",
        "import keras\n",
        "from keras.models import Sequential\n",
        "from keras.layers import Dense,MaxPooling2D,Flatten,Dropout\n",
        "from keras.layers.convolutional import Conv2D\n",
        "from keras import backend"
      ]
    },
    {
      "cell_type": "code",
      "source": [
        "input_neurons=10\n",
        "output_neurons=1"
      ],
      "metadata": {
        "id": "bwIgnI18a1-J"
      },
      "execution_count": 2,
      "outputs": []
    },
    {
      "cell_type": "code",
      "source": [
        "np.random.seed(7)"
      ],
      "metadata": {
        "id": "9nOsdU26a4Bw"
      },
      "execution_count": 3,
      "outputs": []
    },
    {
      "cell_type": "code",
      "source": [
        "train_df = pd.read_csv('train.csv')\n",
        "test_df = pd.read_csv('test.csv')"
      ],
      "metadata": {
        "id": "tu4VNyHKa5aH"
      },
      "execution_count": 4,
      "outputs": []
    },
    {
      "cell_type": "code",
      "source": [
        "def simplify_ages(df):\n",
        "    df['Age'] = df['Age'].fillna(df.Age.mean())\n",
        "    bins = (-1, 0, 5, 12, 18, 25, 35, 60, 120)\n",
        "    group_names = ['Unknown', 'Baby', 'Child', 'Teenager', 'Student', 'Young Adult', 'Adult', 'Senior']\n",
        "    categories = pd.cut(df['Age'], bins, labels=group_names)\n",
        "    df['Age'] = categories.cat.codes \n",
        "    return df\n",
        "\n",
        "def simplify_cabins(df):\n",
        "    df['Cabin'] = df['Cabin'].fillna('N')\n",
        "    df['Cabin'] = df['Cabin'].apply(lambda x: x[0])\n",
        "    df['Cabin'] =  pd.Categorical(df['Cabin'])\n",
        "    df['Cabin'] = df['Cabin'].cat.codes \n",
        "    return df\n",
        "\n",
        "def simplify_fares(df):\n",
        "    df['Fare'] = df.Fare.fillna(df.Fare.mean())\n",
        "    bins = (-1, 0, 8, 15, 31, 1000)\n",
        "    group_names = ['Unknown', 'First Quartile', 'Second Quartile',\n",
        "                   'Third Quartile', 'Fourth Quartile']\n",
        "    categories = pd.cut(df['Fare'], bins, labels=group_names)\n",
        "    df['Fare'] = categories.cat.codes \n",
        "    return df\n",
        "\n",
        "def simplify_sex(df):\n",
        "    df['Sex'] = pd.Categorical(df['Sex'])\n",
        "    df['Sex'] = df['Sex'].cat.codes \n",
        "    return df\n",
        "\n",
        "def simplify_embarked(df):\n",
        "    df['Embarked'] = df.Embarked.fillna(df.Embarked.mode()[0])\n",
        "    df['Embarked'] = pd.Categorical(df['Embarked'])\n",
        "    df['Embarked'] = df['Embarked'].cat.codes + 1\n",
        "    return df\n",
        "\n",
        "def normalize_titles(df):\n",
        "    df['Title'] = df['Title'].replace('Mme', 'Mrs')\n",
        "    df['Title'] = df['Title'].replace('Ms', 'Mrs')      \n",
        "    df['Title'] = df['Title'].replace('Mrs', 'Mrs')\n",
        "    df['Title'] = df['Title'].replace('Mlle', 'Miss')     \n",
        "    df['Title'] = df['Title'].replace('Miss', 'Miss')\n",
        "    df['Title'] = df['Title'].replace('Master', 'Master')\n",
        "    df['Title'] = df['Title'].replace('Mr', 'Mr')\n",
        "    df['Title'] = df['Title'].replace('Capt', 'Officer')\n",
        "    df['Title'] = df['Title'].replace('Major', 'Officer')\n",
        "    df['Title'] = df['Title'].replace('Dr', 'Officer')\n",
        "    df['Title'] = df['Title'].replace('Col', 'Officer')\n",
        "    df['Title'] = df['Title'].replace('Rev', 'Officer') \n",
        "    df['Title'] = df['Title'].replace('Jonkheer', 'Royalty')    \n",
        "    df['Title'] = df['Title'].replace('Don', 'Royalty')\n",
        "    df['Title'] = df['Title'].replace('Dona', 'Royalty')\n",
        "    df['Title'] = df['Title'].replace('Countess', 'Royalty')\n",
        "    df['Title'] = df['Title'].replace('Lady', 'Royalty')\n",
        "    df['Title'] = df['Title'].replace('Sir', 'Royalty')\n",
        "    return df\n",
        "\n",
        "def simplify_titles(df):\n",
        "    df['Title'] = df.Name.str.extract(' ([A-Za-z]+)\\.', expand=False)\n",
        "    df=normalize_titles(df)\n",
        "    df['Title'] = pd.Categorical(df['Title'])\n",
        "    df['Title'] = df['Title'].cat.codes + 1\n",
        "    return df\n",
        "\n",
        "def simplify_family_size_and_is_alone(df):\n",
        "    df['FamilySize'] = df ['SibSp'] + df['Parch'] + 1\n",
        "    df['IsAlone'] = 1\n",
        "    df.loc[df['FamilySize'] > 1,'IsAlone'] = 0\n",
        "    return df\n",
        "\n",
        "def simplify_is_child(df):\n",
        "    df['IsChild'] = 0\n",
        "    df.loc[df['Age'] < 18,'IsChild'] = 1\n",
        "    return df\n",
        "\n",
        "def transform_features(df):\n",
        "    df = simplify_titles(df)\n",
        "    df= simplify_is_child(df)\n",
        "    df = simplify_ages(df)\n",
        "    df = simplify_cabins(df)\n",
        "    df = simplify_family_size_and_is_alone(df)\n",
        "    df = simplify_fares(df)\n",
        "    df = simplify_sex(df)\n",
        "    df = simplify_embarked(df)\n",
        "    return df"
      ],
      "metadata": {
        "id": "eFedSzuSa_wH"
      },
      "execution_count": 5,
      "outputs": []
    },
    {
      "cell_type": "code",
      "source": [
        "train_df=transform_features(train_df)\n",
        "test_df=transform_features(test_df)"
      ],
      "metadata": {
        "id": "HbEBmxVYbDu_"
      },
      "execution_count": 6,
      "outputs": []
    },
    {
      "cell_type": "code",
      "source": [
        "# Train Data Frame\n",
        "xtrain_df = train_df.drop(['PassengerId','Ticket','Survived','Name','Parch','SibSp'], axis=1)\n",
        "ytrain_df = train_df['Survived']\n",
        "# Test Data Frame \n",
        "xtest_df = test_df.drop(['PassengerId','Ticket','Name','Parch','SibSp'], axis=1)"
      ],
      "metadata": {
        "id": "jushM_zXbFE_"
      },
      "execution_count": 7,
      "outputs": []
    },
    {
      "cell_type": "code",
      "source": [
        "model = Sequential()\n",
        "model.add(Dense(32, input_dim=input_neurons, activation='relu'))\n",
        "model.add(Dropout(0.2))\n",
        "model.add(Dense(16, activation='relu'))\n",
        "model.add(Dropout(0.2))\n",
        "model.add(Dense(5, activation='relu'))\n",
        "model.add(Dropout(0.1))\n",
        "model.add(Dense(output_neurons, activation='sigmoid'))"
      ],
      "metadata": {
        "id": "DigrAJgebHLP"
      },
      "execution_count": 8,
      "outputs": []
    },
    {
      "cell_type": "code",
      "source": [
        "model.compile(loss='binary_crossentropy', optimizer='adam',\n",
        "              metrics=['accuracy'])"
      ],
      "metadata": {
        "id": "uKpp7uADbJef"
      },
      "execution_count": 9,
      "outputs": []
    },
    {
      "cell_type": "code",
      "source": [
        "model.fit(xtrain_df, ytrain_df,epochs=50, batch_size=1,verbose=0)\n"
      ],
      "metadata": {
        "colab": {
          "base_uri": "https://localhost:8080/"
        },
        "id": "NypygHzBbLo3",
        "outputId": "9ed47233-ed0d-4bee-8afc-32efbcf3a65c"
      },
      "execution_count": 10,
      "outputs": [
        {
          "output_type": "execute_result",
          "data": {
            "text/plain": [
              "<keras.callbacks.History at 0x7f34d8fda310>"
            ]
          },
          "metadata": {},
          "execution_count": 10
        }
      ]
    },
    {
      "cell_type": "code",
      "source": [
        "scores = model.evaluate(xtrain_df, ytrain_df)\n",
        "print(\"\\n%s: %.2f%%\" % (model.metrics_names[1], scores[1]*100))"
      ],
      "metadata": {
        "colab": {
          "base_uri": "https://localhost:8080/"
        },
        "id": "ew5e-vYMbOGO",
        "outputId": "b81eba25-273b-4893-ab41-f04dc1a1a716"
      },
      "execution_count": 11,
      "outputs": [
        {
          "output_type": "stream",
          "name": "stdout",
          "text": [
            "28/28 [==============================] - 0s 1ms/step - loss: 0.3868 - accuracy: 0.8227\n",
            "\n",
            "accuracy: 82.27%\n"
          ]
        }
      ]
    },
    {
      "cell_type": "code",
      "source": [
        "predictions = model.predict(xtest_df,verbose=0)\n",
        "predictions=predictions.flatten()\n",
        "results = pd.Series(predictions,name=\"Survived\")\n",
        "submission = pd.concat([pd.Series(range(892,1310),name = \"PassengerId\"),results],axis = 1)\n",
        "submission.to_csv(\"titanic_datagen.csv\",index=False)\n",
        "# Clear error in tensorflow for session\n",
        "backend.clear_session()"
      ],
      "metadata": {
        "id": "2JeY4dggbTSw"
      },
      "execution_count": 13,
      "outputs": []
    },
    {
      "cell_type": "code",
      "source": [
        "submission2 = submission.copy()"
      ],
      "metadata": {
        "id": "5KlsP6-WdCWi"
      },
      "execution_count": 17,
      "outputs": []
    },
    {
      "cell_type": "code",
      "source": [
        "submission2.Survived = (submission2.Survived > 0.5).astype(int)"
      ],
      "metadata": {
        "id": "QRVVcPy_dPXo"
      },
      "execution_count": 20,
      "outputs": []
    },
    {
      "cell_type": "code",
      "source": [
        "submission2.head()"
      ],
      "metadata": {
        "colab": {
          "base_uri": "https://localhost:8080/",
          "height": 206
        },
        "id": "4TlH0tMMdXnI",
        "outputId": "0306466c-efc0-4a66-b2a3-426403ad2bc8"
      },
      "execution_count": 21,
      "outputs": [
        {
          "output_type": "execute_result",
          "data": {
            "text/plain": [
              "   PassengerId  Survived\n",
              "0          892         0\n",
              "1          893         0\n",
              "2          894         0\n",
              "3          895         0\n",
              "4          896         0"
            ],
            "text/html": [
              "\n",
              "  <div id=\"df-01c830d2-859f-4796-a2d4-3a4033cc0bb8\">\n",
              "    <div class=\"colab-df-container\">\n",
              "      <div>\n",
              "<style scoped>\n",
              "    .dataframe tbody tr th:only-of-type {\n",
              "        vertical-align: middle;\n",
              "    }\n",
              "\n",
              "    .dataframe tbody tr th {\n",
              "        vertical-align: top;\n",
              "    }\n",
              "\n",
              "    .dataframe thead th {\n",
              "        text-align: right;\n",
              "    }\n",
              "</style>\n",
              "<table border=\"1\" class=\"dataframe\">\n",
              "  <thead>\n",
              "    <tr style=\"text-align: right;\">\n",
              "      <th></th>\n",
              "      <th>PassengerId</th>\n",
              "      <th>Survived</th>\n",
              "    </tr>\n",
              "  </thead>\n",
              "  <tbody>\n",
              "    <tr>\n",
              "      <th>0</th>\n",
              "      <td>892</td>\n",
              "      <td>0</td>\n",
              "    </tr>\n",
              "    <tr>\n",
              "      <th>1</th>\n",
              "      <td>893</td>\n",
              "      <td>0</td>\n",
              "    </tr>\n",
              "    <tr>\n",
              "      <th>2</th>\n",
              "      <td>894</td>\n",
              "      <td>0</td>\n",
              "    </tr>\n",
              "    <tr>\n",
              "      <th>3</th>\n",
              "      <td>895</td>\n",
              "      <td>0</td>\n",
              "    </tr>\n",
              "    <tr>\n",
              "      <th>4</th>\n",
              "      <td>896</td>\n",
              "      <td>0</td>\n",
              "    </tr>\n",
              "  </tbody>\n",
              "</table>\n",
              "</div>\n",
              "      <button class=\"colab-df-convert\" onclick=\"convertToInteractive('df-01c830d2-859f-4796-a2d4-3a4033cc0bb8')\"\n",
              "              title=\"Convert this dataframe to an interactive table.\"\n",
              "              style=\"display:none;\">\n",
              "        \n",
              "  <svg xmlns=\"http://www.w3.org/2000/svg\" height=\"24px\"viewBox=\"0 0 24 24\"\n",
              "       width=\"24px\">\n",
              "    <path d=\"M0 0h24v24H0V0z\" fill=\"none\"/>\n",
              "    <path d=\"M18.56 5.44l.94 2.06.94-2.06 2.06-.94-2.06-.94-.94-2.06-.94 2.06-2.06.94zm-11 1L8.5 8.5l.94-2.06 2.06-.94-2.06-.94L8.5 2.5l-.94 2.06-2.06.94zm10 10l.94 2.06.94-2.06 2.06-.94-2.06-.94-.94-2.06-.94 2.06-2.06.94z\"/><path d=\"M17.41 7.96l-1.37-1.37c-.4-.4-.92-.59-1.43-.59-.52 0-1.04.2-1.43.59L10.3 9.45l-7.72 7.72c-.78.78-.78 2.05 0 2.83L4 21.41c.39.39.9.59 1.41.59.51 0 1.02-.2 1.41-.59l7.78-7.78 2.81-2.81c.8-.78.8-2.07 0-2.86zM5.41 20L4 18.59l7.72-7.72 1.47 1.35L5.41 20z\"/>\n",
              "  </svg>\n",
              "      </button>\n",
              "      \n",
              "  <style>\n",
              "    .colab-df-container {\n",
              "      display:flex;\n",
              "      flex-wrap:wrap;\n",
              "      gap: 12px;\n",
              "    }\n",
              "\n",
              "    .colab-df-convert {\n",
              "      background-color: #E8F0FE;\n",
              "      border: none;\n",
              "      border-radius: 50%;\n",
              "      cursor: pointer;\n",
              "      display: none;\n",
              "      fill: #1967D2;\n",
              "      height: 32px;\n",
              "      padding: 0 0 0 0;\n",
              "      width: 32px;\n",
              "    }\n",
              "\n",
              "    .colab-df-convert:hover {\n",
              "      background-color: #E2EBFA;\n",
              "      box-shadow: 0px 1px 2px rgba(60, 64, 67, 0.3), 0px 1px 3px 1px rgba(60, 64, 67, 0.15);\n",
              "      fill: #174EA6;\n",
              "    }\n",
              "\n",
              "    [theme=dark] .colab-df-convert {\n",
              "      background-color: #3B4455;\n",
              "      fill: #D2E3FC;\n",
              "    }\n",
              "\n",
              "    [theme=dark] .colab-df-convert:hover {\n",
              "      background-color: #434B5C;\n",
              "      box-shadow: 0px 1px 3px 1px rgba(0, 0, 0, 0.15);\n",
              "      filter: drop-shadow(0px 1px 2px rgba(0, 0, 0, 0.3));\n",
              "      fill: #FFFFFF;\n",
              "    }\n",
              "  </style>\n",
              "\n",
              "      <script>\n",
              "        const buttonEl =\n",
              "          document.querySelector('#df-01c830d2-859f-4796-a2d4-3a4033cc0bb8 button.colab-df-convert');\n",
              "        buttonEl.style.display =\n",
              "          google.colab.kernel.accessAllowed ? 'block' : 'none';\n",
              "\n",
              "        async function convertToInteractive(key) {\n",
              "          const element = document.querySelector('#df-01c830d2-859f-4796-a2d4-3a4033cc0bb8');\n",
              "          const dataTable =\n",
              "            await google.colab.kernel.invokeFunction('convertToInteractive',\n",
              "                                                     [key], {});\n",
              "          if (!dataTable) return;\n",
              "\n",
              "          const docLinkHtml = 'Like what you see? Visit the ' +\n",
              "            '<a target=\"_blank\" href=https://colab.research.google.com/notebooks/data_table.ipynb>data table notebook</a>'\n",
              "            + ' to learn more about interactive tables.';\n",
              "          element.innerHTML = '';\n",
              "          dataTable['output_type'] = 'display_data';\n",
              "          await google.colab.output.renderOutput(dataTable, element);\n",
              "          const docLink = document.createElement('div');\n",
              "          docLink.innerHTML = docLinkHtml;\n",
              "          element.appendChild(docLink);\n",
              "        }\n",
              "      </script>\n",
              "    </div>\n",
              "  </div>\n",
              "  "
            ]
          },
          "metadata": {},
          "execution_count": 21
        }
      ]
    },
    {
      "cell_type": "code",
      "source": [
        "submission.head()"
      ],
      "metadata": {
        "colab": {
          "base_uri": "https://localhost:8080/",
          "height": 206
        },
        "id": "EAoO94bBbs7w",
        "outputId": "2ca0432f-419c-4f84-c13f-890961021d4b"
      },
      "execution_count": 14,
      "outputs": [
        {
          "output_type": "execute_result",
          "data": {
            "text/plain": [
              "   PassengerId  Survived\n",
              "0          892  0.092666\n",
              "1          893  0.205610\n",
              "2          894  0.124794\n",
              "3          895  0.112868\n",
              "4          896  0.256776"
            ],
            "text/html": [
              "\n",
              "  <div id=\"df-2fe85597-7ab6-413b-a9c7-3b4c321c46f2\">\n",
              "    <div class=\"colab-df-container\">\n",
              "      <div>\n",
              "<style scoped>\n",
              "    .dataframe tbody tr th:only-of-type {\n",
              "        vertical-align: middle;\n",
              "    }\n",
              "\n",
              "    .dataframe tbody tr th {\n",
              "        vertical-align: top;\n",
              "    }\n",
              "\n",
              "    .dataframe thead th {\n",
              "        text-align: right;\n",
              "    }\n",
              "</style>\n",
              "<table border=\"1\" class=\"dataframe\">\n",
              "  <thead>\n",
              "    <tr style=\"text-align: right;\">\n",
              "      <th></th>\n",
              "      <th>PassengerId</th>\n",
              "      <th>Survived</th>\n",
              "    </tr>\n",
              "  </thead>\n",
              "  <tbody>\n",
              "    <tr>\n",
              "      <th>0</th>\n",
              "      <td>892</td>\n",
              "      <td>0.092666</td>\n",
              "    </tr>\n",
              "    <tr>\n",
              "      <th>1</th>\n",
              "      <td>893</td>\n",
              "      <td>0.205610</td>\n",
              "    </tr>\n",
              "    <tr>\n",
              "      <th>2</th>\n",
              "      <td>894</td>\n",
              "      <td>0.124794</td>\n",
              "    </tr>\n",
              "    <tr>\n",
              "      <th>3</th>\n",
              "      <td>895</td>\n",
              "      <td>0.112868</td>\n",
              "    </tr>\n",
              "    <tr>\n",
              "      <th>4</th>\n",
              "      <td>896</td>\n",
              "      <td>0.256776</td>\n",
              "    </tr>\n",
              "  </tbody>\n",
              "</table>\n",
              "</div>\n",
              "      <button class=\"colab-df-convert\" onclick=\"convertToInteractive('df-2fe85597-7ab6-413b-a9c7-3b4c321c46f2')\"\n",
              "              title=\"Convert this dataframe to an interactive table.\"\n",
              "              style=\"display:none;\">\n",
              "        \n",
              "  <svg xmlns=\"http://www.w3.org/2000/svg\" height=\"24px\"viewBox=\"0 0 24 24\"\n",
              "       width=\"24px\">\n",
              "    <path d=\"M0 0h24v24H0V0z\" fill=\"none\"/>\n",
              "    <path d=\"M18.56 5.44l.94 2.06.94-2.06 2.06-.94-2.06-.94-.94-2.06-.94 2.06-2.06.94zm-11 1L8.5 8.5l.94-2.06 2.06-.94-2.06-.94L8.5 2.5l-.94 2.06-2.06.94zm10 10l.94 2.06.94-2.06 2.06-.94-2.06-.94-.94-2.06-.94 2.06-2.06.94z\"/><path d=\"M17.41 7.96l-1.37-1.37c-.4-.4-.92-.59-1.43-.59-.52 0-1.04.2-1.43.59L10.3 9.45l-7.72 7.72c-.78.78-.78 2.05 0 2.83L4 21.41c.39.39.9.59 1.41.59.51 0 1.02-.2 1.41-.59l7.78-7.78 2.81-2.81c.8-.78.8-2.07 0-2.86zM5.41 20L4 18.59l7.72-7.72 1.47 1.35L5.41 20z\"/>\n",
              "  </svg>\n",
              "      </button>\n",
              "      \n",
              "  <style>\n",
              "    .colab-df-container {\n",
              "      display:flex;\n",
              "      flex-wrap:wrap;\n",
              "      gap: 12px;\n",
              "    }\n",
              "\n",
              "    .colab-df-convert {\n",
              "      background-color: #E8F0FE;\n",
              "      border: none;\n",
              "      border-radius: 50%;\n",
              "      cursor: pointer;\n",
              "      display: none;\n",
              "      fill: #1967D2;\n",
              "      height: 32px;\n",
              "      padding: 0 0 0 0;\n",
              "      width: 32px;\n",
              "    }\n",
              "\n",
              "    .colab-df-convert:hover {\n",
              "      background-color: #E2EBFA;\n",
              "      box-shadow: 0px 1px 2px rgba(60, 64, 67, 0.3), 0px 1px 3px 1px rgba(60, 64, 67, 0.15);\n",
              "      fill: #174EA6;\n",
              "    }\n",
              "\n",
              "    [theme=dark] .colab-df-convert {\n",
              "      background-color: #3B4455;\n",
              "      fill: #D2E3FC;\n",
              "    }\n",
              "\n",
              "    [theme=dark] .colab-df-convert:hover {\n",
              "      background-color: #434B5C;\n",
              "      box-shadow: 0px 1px 3px 1px rgba(0, 0, 0, 0.15);\n",
              "      filter: drop-shadow(0px 1px 2px rgba(0, 0, 0, 0.3));\n",
              "      fill: #FFFFFF;\n",
              "    }\n",
              "  </style>\n",
              "\n",
              "      <script>\n",
              "        const buttonEl =\n",
              "          document.querySelector('#df-2fe85597-7ab6-413b-a9c7-3b4c321c46f2 button.colab-df-convert');\n",
              "        buttonEl.style.display =\n",
              "          google.colab.kernel.accessAllowed ? 'block' : 'none';\n",
              "\n",
              "        async function convertToInteractive(key) {\n",
              "          const element = document.querySelector('#df-2fe85597-7ab6-413b-a9c7-3b4c321c46f2');\n",
              "          const dataTable =\n",
              "            await google.colab.kernel.invokeFunction('convertToInteractive',\n",
              "                                                     [key], {});\n",
              "          if (!dataTable) return;\n",
              "\n",
              "          const docLinkHtml = 'Like what you see? Visit the ' +\n",
              "            '<a target=\"_blank\" href=https://colab.research.google.com/notebooks/data_table.ipynb>data table notebook</a>'\n",
              "            + ' to learn more about interactive tables.';\n",
              "          element.innerHTML = '';\n",
              "          dataTable['output_type'] = 'display_data';\n",
              "          await google.colab.output.renderOutput(dataTable, element);\n",
              "          const docLink = document.createElement('div');\n",
              "          docLink.innerHTML = docLinkHtml;\n",
              "          element.appendChild(docLink);\n",
              "        }\n",
              "      </script>\n",
              "    </div>\n",
              "  </div>\n",
              "  "
            ]
          },
          "metadata": {},
          "execution_count": 14
        }
      ]
    },
    {
      "cell_type": "code",
      "source": [
        "submission2.to_csv(\"titanic.csv\",index=False)"
      ],
      "metadata": {
        "id": "ncX6Pojyc-B_"
      },
      "execution_count": 23,
      "outputs": []
    }
  ]
}